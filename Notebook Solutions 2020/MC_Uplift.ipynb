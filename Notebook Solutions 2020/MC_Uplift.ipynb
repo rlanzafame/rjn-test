{
 "cells": [
  {
   "cell_type": "code",
   "execution_count": 5,
   "metadata": {},
   "outputs": [
    {
     "name": "stdout",
     "output_type": "stream",
     "text": [
      "0 Pf: 0.01666\n",
      "1 Pf: 0.01634\n",
      "2 Pf: 0.01602\n",
      "3 Pf: 0.01595\n",
      "4 Pf: 0.01606\n",
      "5 Pf: 0.01605\n",
      "6 Pf: 0.01646\n",
      "7 Pf: 0.01615\n",
      "8 Pf: 0.01538\n",
      "9 Pf: 0.01671\n",
      "10 Pf: 0.01544\n",
      "11 Pf: 0.01541\n",
      "12 Pf: 0.01638\n",
      "13 Pf: 0.01665\n",
      "14 Pf: 0.01689\n",
      "15 Pf: 0.01675\n",
      "16 Pf: 0.0157\n",
      "17 Pf: 0.0165\n",
      "18 Pf: 0.01609\n",
      "19 Pf: 0.01687\n",
      "\n",
      "TOTAL Pf: 0.01622\n",
      "\n",
      "TOTAL Pf: 0.01622\n"
     ]
    }
   ],
   "source": [
    "import numpy as np\n",
    "import random as rd\n",
    "import scipy.stats as sc\n",
    "\n",
    "l = 20\n",
    "n = 100000\n",
    "B = 37.5\n",
    "yw = 10\n",
    "xexit = 18.75 + 50\n",
    "\n",
    "# Water level\n",
    "data = np.loadtxt('Cumulative_density_function_water_level.txt', delimiter=' ', unpack=True)\n",
    "\n",
    "def lognorm_params(mode, stddev):\n",
    "    p = np.poly1d([1, -1, 0, 0, -(stddev/mode)**2])\n",
    "    r = p.roots\n",
    "    sol = r[(r.imag == 0) & (r.real > 0)].real\n",
    "    shape = np.sqrt(np.log(sol))\n",
    "    scale = mode * sol\n",
    "    return shape, scale\n",
    "\n",
    "# Start\n",
    "Pf = []\n",
    "for i in range(l):\n",
    "    # Generate Stochastic Lognormal\n",
    "    sigma, scale = lognorm_params(25, 0.5)\n",
    "    D = sc.lognorm.rvs(sigma, 0, scale, size=n)\n",
    "    sigma, scale = lognorm_params(4.5, 0.5)\n",
    "    d = sc.lognorm.rvs(sigma, 0, scale, size=n)\n",
    "    sigma, scale = lognorm_params(7.52e-4, 0.5 * 7.52e-4)\n",
    "    k = sc.lognorm.rvs(sigma, 0, scale, size=n)\n",
    "    sigma, scale = lognorm_params(1.00e-6, 0.5 * 1.00e-6)\n",
    "    kh = sc.lognorm.rvs(sigma, 0, scale, size=n)\n",
    "    sigma, scale = lognorm_params(20, 2)\n",
    "    Lf = sc.lognorm.rvs(sigma, 0, scale, size=n)\n",
    "    \n",
    "    # Generate Stochastic Normal\n",
    "    hp = sc.norm.rvs(3.50, 0.1, n)\n",
    "    ysat = sc.norm.rvs(14.7222222222, 0.05 * 14.7222222222, n)\n",
    "    mu = sc.norm.rvs(1.00, 0.1, n)\n",
    "    \n",
    "    # Generate water level\n",
    "    h = []\n",
    "    for q in range(n):\n",
    "        w = rd.random()\n",
    "        h.append(np.interp(w, data[1], data[0]))\n",
    "    \n",
    "    # Calc\n",
    "    lambda_h = ((k * D * d) / kh) ** 0.5\n",
    "    lambda_ = (lambda_h / (Lf + B + lambda_h)) * np.exp((0.5 * B - xexit) / lambda_h)\n",
    "    phi_exit = hp + lambda_ * (h - hp)\n",
    "    dphi = phi_exit - hp\n",
    "    dphi_c = d * ((ysat - yw) / yw)\n",
    "    Z = mu * dphi_c - dphi\n",
    "    \n",
    "    fail = 0\n",
    "    for q in range(n):\n",
    "        if(Z[q] < 0):\n",
    "            fail += 1\n",
    "    \n",
    "    if(fail > 0):\n",
    "        Pf.append(fail / n)\n",
    "    else:\n",
    "        Pf.append(0)\n",
    "        \n",
    "    print(i, \"Pf:\", Pf[i])\n",
    "    \n",
    "print(\"\\nTOTAL Pf:\", round(np.average(Pf), 5))\n",
    "print(\"\\nTOTAL Pf:\", round(np.sum(Pf) / l, 5))"
   ]
  },
  {
   "cell_type": "code",
   "execution_count": null,
   "metadata": {},
   "outputs": [],
   "source": []
  },
  {
   "cell_type": "code",
   "execution_count": 14,
   "metadata": {},
   "outputs": [
    {
     "data": {
      "text/plain": [
       "[<matplotlib.lines.Line2D at 0x18933a64188>]"
      ]
     },
     "execution_count": 14,
     "metadata": {},
     "output_type": "execute_result"
    },
    {
     "data": {
      "image/png": "[encoded data removed]",
      "text/plain": [
       "<Figure size 432x288 with 1 Axes>"
      ]
     },
     "metadata": {
      "needs_background": "light"
     },
     "output_type": "display_data"
    }
   ],
   "source": [
    "import matplotlib.pyplot as plt\n",
    "x = np.linspace(0, 50, 1000)\n",
    "sigma, scale = lognorm_params(25, 0.5)\n",
    "y = sc.lognorm.pdf(x, sigma, 0, scale)\n",
    "plt.xlim(0, 30)\n",
    "plt.plot(x, y)"
   ]
  },
  {
   "cell_type": "code",
   "execution_count": null,
   "metadata": {},
   "outputs": [],
   "source": []
  }
 ],
 "metadata": {
  "kernelspec": {
   "display_name": "Python 3",
   "language": "python",
   "name": "python3"
  },
  "language_info": {
   "codemirror_mode": {
    "name": "ipython",
    "version": 3
   },
   "file_extension": ".py",
   "mimetype": "text/x-python",
   "name": "python",
   "nbconvert_exporter": "python",
   "pygments_lexer": "ipython3",
   "version": "3.7.6"
  }
 },
 "nbformat": 4,
 "nbformat_minor": 4
}
