{
 "cells": [
  {
   "cell_type": "code",
   "execution_count": 36,
   "metadata": {},
   "outputs": [
    {
     "name": "stdout",
     "output_type": "stream",
     "text": [
      "NNE | 0.8243266706701396 | 210.97259281062824\n",
      "NE | 0.9212413394748669 | 249.25113252744885\n",
      "ENE | 0.9276457101233752 | 251.8547951344804\n",
      "E | 0.8624033382616819 | 225.75774401591588\n",
      "ESE | 0.2097033433766641 | 27.069799875408624\n",
      "SE | 0 | 0.0\n",
      "SSE | 0 | 0.0\n",
      "S | 0 | 0.0\n",
      "SSW | 0 | 0.0\n",
      "SW | 0 | 0.0\n",
      "WSW | 0 | 0.0\n",
      "W | 0.33172313606565845 | 53.85681381748345\n",
      "WNW | 1.3070295053487142 | 421.21623367153677\n",
      "NW | 1.2502847533348158 | 394.0854638802853\n",
      "NNW | 0.977148819946955 | 272.28146645155624\n",
      "N | 0.763984414118338 | 188.236466224588\n"
     ]
    }
   ],
   "source": [
    "import numpy as np\n",
    "\n",
    "# Given design values\n",
    "h = 7.56\n",
    "winddir = [\"NNE\", \"NE\", \"ENE\", \"E\", \"ESE\", \"SE\", \"SSE\", \"S\", \"SSW\", \"SW\", \"WSW\", \"W\", \"WNW\", \"NW\", \"NNW\", \"N\"]\n",
    "u10 = [22.8,23.4,22.8,22.2,21,21,22.8,24.6,27.6,33,35.6,36.6,34.8,32.4,26.4,23.4]\n",
    "fetch = [2392,3128,3480,2992,1622,738,240,120,120,176,750,2002,2848,3084,2574,1762]\n",
    "angle = [10.5,33,55.5,78,100.5,123,145.5,168,-169.5,-147,-124.5,-102,-79.5,-57,-34.5,-12]\n",
    "P_occ = [0.064,0.104,0.145,0.103,0.019,0.023,0.022,0.028,0.045,0.049,0.041,0.022,0.139,0.105,0.060,0.031]\n",
    "\n",
    "# Input\n",
    "crest = 7.56\n",
    "b = 2.35-1.645*0.3\n",
    "qcr = 10\n",
    "y_f = 1\n",
    "g = 9.81\n",
    "\n",
    "# Preparation\n",
    "d = h - b # Depth\n",
    "Rc = crest - h # Freeboard\n",
    "q = np.zeros(len(winddir))\n",
    "\n",
    "# Loop all different wind directions\n",
    "for j in range(len(winddir)):\n",
    "    # Calculate y_beta\n",
    "    y_beta = 1 - 0.0033 * np.absolute(angle[j])\n",
    "    if(np.absolute(angle[j]) > 80):\n",
    "        y_beta = 1 - 0.0033 * 80\n",
    "            \n",
    "    # Wave height\n",
    "    F = (fetch[j] * g) / u10[j]**2\n",
    "    D = (d * g) / u10[j]**2\n",
    "    Hdak = 0.283 * np.tanh(0.53 * D**0.75) * np.tanh((0.0125 * F**0.42)/(np.tanh(0.53 * D**0.75)))\n",
    "    H = (Hdak * u10[j]**2) / g\n",
    "    \n",
    "    # Angle checks and reductions\n",
    "    if(np.absolute(angle[j]) > 110):\n",
    "        H = 0\n",
    "    elif(np.absolute(angle[j]) > 80):\n",
    "        H = H * (110 - np.absolute(angle[j])) / 30\n",
    "        if(H < 0):\n",
    "            H = 0\n",
    "    \n",
    "    # Overtopping discharge\n",
    "    q[j] = 0\n",
    "    FoS = \"No Waves\"\n",
    "    if(H > 0):\n",
    "        q[j] = 10**3 * 0.09 * np.exp(-(((1.5 * Rc) / (H * y_f * y_beta))**1.3)) * ((g * H**3)**0.5)\n",
    "        FoS = round(qcr / q[j],3)\n",
    "    print(winddir[j],\"|\", H , \"|\",q[j])\n"
   ]
  },
  {
   "cell_type": "code",
   "execution_count": null,
   "metadata": {},
   "outputs": [],
   "source": []
  }
 ],
 "metadata": {
  "kernelspec": {
   "display_name": "Python 3",
   "language": "python",
   "name": "python3"
  },
  "language_info": {
   "codemirror_mode": {
    "name": "ipython",
    "version": 3
   },
   "file_extension": ".py",
   "mimetype": "text/x-python",
   "name": "python",
   "nbconvert_exporter": "python",
   "pygments_lexer": "ipython3",
   "version": "3.7.3"
  }
 },
 "nbformat": 4,
 "nbformat_minor": 4
}
