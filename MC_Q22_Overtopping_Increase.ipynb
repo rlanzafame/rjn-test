{
 "cells": [
  {
   "cell_type": "code",
   "execution_count": 2,
   "metadata": {},
   "outputs": [],
   "source": [
    "import numpy as np\n",
    "import matplotlib.pyplot as plt\n",
    "import pandas as pd\n",
    "import random\n",
    "from scipy import interpolate\n",
    "from datetime import datetime"
   ]
  },
  {
   "cell_type": "code",
   "execution_count": 3,
   "metadata": {},
   "outputs": [],
   "source": [
    "# Deterministic\n",
    "lowquality = 0             # 0 = High, 1 = Low\n",
    "y_f = 1\n",
    "g = 9.81\n",
    "fetch = [2392,3128,3480,2992,1622,738,240,120,120,176,750,2002,2848,3084,2574,1762]\n",
    "angle = [10.5,33,55.5,78,100.5,123,145.5,168,-169.5,-147,-124.5,-102,-79.5,-57,-34.5,-12]\n",
    "winddir = [\"NNE\", \"NE\", \"ENE\", \"E\", \"ESE\", \"SE\", \"SSE\", \"S\", \"SSW\", \"SW\", \"WSW\", \"W\", \"WNW\", \"NW\", \"NNW\", \"N\"]\n",
    "revetment = [[225,250],[100,120],[70,80],[40,50]]"
   ]
  },
  {
   "cell_type": "code",
   "execution_count": 4,
   "metadata": {},
   "outputs": [],
   "source": [
    "# Load distributions\n",
    "# Water level\n",
    "data = np.loadtxt('Cumulative_density_function_water_level.txt', delimiter=' ', unpack=True)\n",
    "\n",
    "# Wind\n",
    "df = pd.read_excel (r'exc_wind.xlsx')\n",
    "exc_vel = df[\"Wind velocity [m/s] \"].tolist()\n",
    "exc_wind = []\n",
    "\n",
    "for i in range(16):\n",
    "    exc_wind.append(1 - np.array(df[winddir[i]].tolist()))"
   ]
  },
  {
   "cell_type": "code",
   "execution_count": 8,
   "metadata": {},
   "outputs": [
    {
     "name": "stdout",
     "output_type": "stream",
     "text": [
      "8.3|15:02:37|81|4.05e-05|24691.36\n",
      "8.4|15:05:05|53|2.65e-05|37735.85\n",
      "8.5|15:07:32|48|2.4e-05|41666.67\n",
      "8.6|15:10:00|33|1.65e-05|60606.06\n"
     ]
    }
   ],
   "source": [
    "ch = np.arange(8.3, 8.61, 0.1)\n",
    "iterations = len(ch)\n",
    "n = 2000000\n",
    "\n",
    "Pf = []\n",
    "\n",
    "for k in range(iterations):\n",
    "    crest_height = ch[k]\n",
    "    fail = 0\n",
    "\n",
    "    for i in range(n):    \n",
    "        # Generate a random wind direction\n",
    "        j = random.choices([0,1,2,3,4,5,6,7,8,9,10,11,12,13,14,15],[6.4,10.4,14.5,10.3,1.9,2.3,2.2,2.8,4.5,4.9,4.1,2.2,13.9,10.5,6.0,3.1])[0]\n",
    "\n",
    "        # Generate a random wind speed\n",
    "        w = random.random()\n",
    "        u = np.interp(w, exc_wind[j], exc_vel)\n",
    "\n",
    "        # Calculate y_beta\n",
    "        y_beta = 1 - 0.0033 * np.absolute(angle[j])\n",
    "        if(np.absolute(angle[j]) > 80):\n",
    "            y_beta = 1 - 0.0033 * 80\n",
    "\n",
    "        # Generate water height, Rc and d\n",
    "        #w = random.random();\n",
    "        b = random.normalvariate(2.35, 0.3);\n",
    "        swl = np.interp(w, data[1], data[0])\n",
    "        Rc = crest_height - swl\n",
    "        d = swl - b\n",
    "\n",
    "        # If there is no water depth, there is no failure\n",
    "        if(d < 0):\n",
    "            continue\n",
    "\n",
    "        # Calculate wave height\n",
    "        F = (fetch[j] * g) / u**2\n",
    "        D = (d * g) / u**2\n",
    "        Hdak = 0.283 * np.tanh(0.53 * D**0.75) * np.tanh((0.0125 * F**0.42)/(np.tanh(0.53 * D**0.75)))\n",
    "        H = (Hdak * u**2) / g\n",
    "\n",
    "        # Angle checks and reductions\n",
    "        if(np.absolute(angle[j]) > 110):\n",
    "            H = 0\n",
    "        elif(np.absolute(angle[j]) > 80):\n",
    "            H = H * (110 - np.absolute(angle[j])) / 30\n",
    "            if(H < 0):\n",
    "                H = 0\n",
    "\n",
    "        # Grass cover quality\n",
    "        if(H > 2):\n",
    "            wavecat = 2\n",
    "        elif(H > 1):\n",
    "            wavecat = 1\n",
    "        else:\n",
    "            wavecat = 0\n",
    "        index = lowquality+wavecat\n",
    "        sigma = (np.log(1 + (revetment[index][1]/revetment[index][0])**2))**0.5\n",
    "        mu = np.log(revetment[index][0]) - 0.5 * sigma**2\n",
    "        q = np.random.lognormal(mu, sigma);\n",
    "        \n",
    "        # Check for overflow, if there is overflow, count it as a fail and continue the loop\n",
    "        if(Rc < 0):\n",
    "            qov = 0.54 * ((9.81 * np.absolute(Rc ** 3)) ** 0.5) * (10 ** 3)\n",
    "            if(qov > q):\n",
    "                fail += 1\n",
    "            continue\n",
    "\n",
    "        # Calculate exponents\n",
    "        a = 0.09;\n",
    "        b = 1.5;\n",
    "\n",
    "        # Z = R - S\n",
    "        Z = 1\n",
    "        if(H > 0):\n",
    "            Z = q - 10**3 * a * np.exp(-(((b * Rc) / (H * y_f * y_beta))**1.3)) * ((g * H**3)**0.5)\n",
    "\n",
    "        if(Z < 0):\n",
    "            fail += 1\n",
    "\n",
    "    Pf.append(fail / n)\n",
    "    now = datetime.now()\n",
    "    current_time = now.strftime(\"%H:%M:%S\")\n",
    "    print(str(crest_height) + \"|\" + str(current_time) + \"|\" + str(fail) + \"|\" + str(Pf[k]) + \"|\" + str(round(1/Pf[k],2)))"
   ]
  },
  {
   "cell_type": "code",
   "execution_count": null,
   "metadata": {},
   "outputs": [],
   "source": []
  }
 ],
 "metadata": {
  "kernelspec": {
   "display_name": "Python 3",
   "language": "python",
   "name": "python3"
  },
  "language_info": {
   "codemirror_mode": {
    "name": "ipython",
    "version": 3
   },
   "file_extension": ".py",
   "mimetype": "text/x-python",
   "name": "python",
   "nbconvert_exporter": "python",
   "pygments_lexer": "ipython3",
   "version": "3.7.6"
  }
 },
 "nbformat": 4,
 "nbformat_minor": 4
}
